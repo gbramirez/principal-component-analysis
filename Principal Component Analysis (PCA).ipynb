{
 "cells": [
  {
   "cell_type": "markdown",
   "id": "43e36e6d",
   "metadata": {},
   "source": [
    "#### Brian Ramirez\n",
    "\n",
    "# Principal Component Analysis\n",
    "\n",
    "## Research Question\n",
    "<p>Can Principal Component Analysis (PCA) be used to identify which features account for most of the variance in the hospital data set and reduce the set's dimensionality?</p>\n",
    "\n",
    "### Goal\n",
    "<p>The goal of the data analysis is to use PCA to identify which features account for most of the variance in the hospital data set and to reduce the dimensionality.</p>\n",
    "\n",
    "\n",
    "### How PCA Works and Expected Outcome\n",
    "<p>Principal Component Analysis is a useful tool in machine learning. According to <em>Principal Component Analysis in Machine Learning</em>, PCA converts variables in a data set into principal components, which are \"linear combinations of the original variables\"(Biswal, 2023). The expected outcome of PCA is reduced dimensionality and high variance.</p>\n",
    "\n",
    "### Assumption\n",
    "<p>An assumption of PCA is that the dataset is standardized prior to analysis. The dataset will be scaled during preprocessing to meet the assumption.</p>\n",
    "\n",
    "## Data Preparation\n",
    "\n",
    "### Continuous Variables\n",
    "<p>The following continuous variables will be used to answer the PCA question proposed in part A1:</p>\n",
    "\n",
    "| Type | Name | Description |\n",
    "| :--- | :--- | :--- |\n",
    "| Continuous | Age | The patient's age at the time of admission. |\n",
    "| Continuous | VitD_levels | The patient's vitamin D level. |\n",
    "| Continuous | Doc_visits | The number of times the patient was seen by a physician. |\n",
    "| Continuous | Full_meals_eaten| The number of full meals the patient consumed. |\n",
    "| Continuous | VitD_Supp | The number of vitamin D supplements the patient received |\n",
    "| Continuous | Initial_days | The number of days in the patient's initial stay. | \n",
    "| Continuous | TotalCharge | The total charge of the patient's stay. |\n",
    "| Continuous | Additional_charges | The total cost of miscellaneous charges the patient accrued. |\n",
    "\n",
    "### Preparation Process\n",
    "<p>The standardization of the data set occurred as follows:</p>\n",
    "\n",
    "<strong>Step One</strong>\n",
    "<ul>\n",
    "    <li>Import the CSV file into Jupyter Notebook.</li>\n",
    "    <li>Create a dataframe with the necessary continuous variables.</li>\n",
    "</ul>\n",
    "\n",
    "<strong>Imports</strong>\n",
    "<ul>\n",
    "    <li>Pandas to import the file and create the dataframe.</li>\n",
    "    <li>filterwarnings from warnings to ignore redundant warning messages.</li>\n",
    "</ul>"
   ]
  },
  {
   "cell_type": "code",
   "execution_count": 1,
   "id": "f97bd6a1",
   "metadata": {},
   "outputs": [],
   "source": [
    "# Import pandas\n",
    "\n",
    "import pandas as pd\n",
    "\n",
    "import warnings\n",
    "warnings.filterwarnings('ignore')\n"
   ]
  },
  {
   "cell_type": "code",
   "execution_count": 2,
   "id": "587d6da8",
   "metadata": {},
   "outputs": [
    {
     "name": "stdout",
     "output_type": "stream",
     "text": [
      "<class 'pandas.core.frame.DataFrame'>\n",
      "RangeIndex: 10000 entries, 0 to 9999\n",
      "Data columns (total 50 columns):\n",
      " #   Column              Non-Null Count  Dtype  \n",
      "---  ------              --------------  -----  \n",
      " 0   CaseOrder           10000 non-null  int64  \n",
      " 1   Customer_id         10000 non-null  object \n",
      " 2   Interaction         10000 non-null  object \n",
      " 3   UID                 10000 non-null  object \n",
      " 4   City                10000 non-null  object \n",
      " 5   State               10000 non-null  object \n",
      " 6   County              10000 non-null  object \n",
      " 7   Zip                 10000 non-null  int64  \n",
      " 8   Lat                 10000 non-null  float64\n",
      " 9   Lng                 10000 non-null  float64\n",
      " 10  Population          10000 non-null  int64  \n",
      " 11  Area                10000 non-null  object \n",
      " 12  TimeZone            10000 non-null  object \n",
      " 13  Job                 10000 non-null  object \n",
      " 14  Children            10000 non-null  int64  \n",
      " 15  Age                 10000 non-null  int64  \n",
      " 16  Income              10000 non-null  float64\n",
      " 17  Marital             10000 non-null  object \n",
      " 18  Gender              10000 non-null  object \n",
      " 19  ReAdmis             10000 non-null  object \n",
      " 20  VitD_levels         10000 non-null  float64\n",
      " 21  Doc_visits          10000 non-null  int64  \n",
      " 22  Full_meals_eaten    10000 non-null  int64  \n",
      " 23  vitD_supp           10000 non-null  int64  \n",
      " 24  Soft_drink          10000 non-null  object \n",
      " 25  Initial_admin       10000 non-null  object \n",
      " 26  HighBlood           10000 non-null  object \n",
      " 27  Stroke              10000 non-null  object \n",
      " 28  Complication_risk   10000 non-null  object \n",
      " 29  Overweight          10000 non-null  object \n",
      " 30  Arthritis           10000 non-null  object \n",
      " 31  Diabetes            10000 non-null  object \n",
      " 32  Hyperlipidemia      10000 non-null  object \n",
      " 33  BackPain            10000 non-null  object \n",
      " 34  Anxiety             10000 non-null  object \n",
      " 35  Allergic_rhinitis   10000 non-null  object \n",
      " 36  Reflux_esophagitis  10000 non-null  object \n",
      " 37  Asthma              10000 non-null  object \n",
      " 38  Services            10000 non-null  object \n",
      " 39  Initial_days        10000 non-null  float64\n",
      " 40  TotalCharge         10000 non-null  float64\n",
      " 41  Additional_charges  10000 non-null  float64\n",
      " 42  Item1               10000 non-null  int64  \n",
      " 43  Item2               10000 non-null  int64  \n",
      " 44  Item3               10000 non-null  int64  \n",
      " 45  Item4               10000 non-null  int64  \n",
      " 46  Item5               10000 non-null  int64  \n",
      " 47  Item6               10000 non-null  int64  \n",
      " 48  Item7               10000 non-null  int64  \n",
      " 49  Item8               10000 non-null  int64  \n",
      "dtypes: float64(7), int64(16), object(27)\n",
      "memory usage: 3.8+ MB\n"
     ]
    }
   ],
   "source": [
    "# Import the CSV file into Jupyter Notebook\n",
    "\n",
    "df=pd.read_csv('/medical_clean copy.csv')\n",
    "df.info()\n"
   ]
  },
  {
   "cell_type": "code",
   "execution_count": 3,
   "id": "3393e1be",
   "metadata": {},
   "outputs": [],
   "source": [
    "# Remove unnecessary variables to create data frame with only required continuous variables\n",
    "\n",
    "irrel_cols = ['Customer_id', 'Interaction', 'ReAdmis', 'UID', 'City', 'State', 'County', 'Zip', 'Lat', 'Lng', 'Population', 'Area', 'TimeZone', 'Job', 'Children', 'Income', 'Marital', 'Gender', 'Soft_drink', 'Initial_admin', 'Arthritis', 'Hyperlipidemia', 'BackPain', 'Anxiety', 'Allergic_rhinitis', 'Reflux_esophagitis', 'Asthma', 'Services', 'Item1', 'Item2', 'Item3', 'Item4', 'Item5', 'Item6', 'Item7', 'Item8', 'Complication_risk', 'Overweight', 'Diabetes', 'HighBlood', 'Stroke']\n",
    "\n",
    "df = df.drop(irrel_cols, axis=1)\n",
    "df=df.drop(columns = ['CaseOrder'])\n"
   ]
  },
  {
   "cell_type": "code",
   "execution_count": 4,
   "id": "87dd2002",
   "metadata": {
    "scrolled": false
   },
   "outputs": [
    {
     "data": {
      "text/html": [
       "<div>\n",
       "<style scoped>\n",
       "    .dataframe tbody tr th:only-of-type {\n",
       "        vertical-align: middle;\n",
       "    }\n",
       "\n",
       "    .dataframe tbody tr th {\n",
       "        vertical-align: top;\n",
       "    }\n",
       "\n",
       "    .dataframe thead th {\n",
       "        text-align: right;\n",
       "    }\n",
       "</style>\n",
       "<table border=\"1\" class=\"dataframe\">\n",
       "  <thead>\n",
       "    <tr style=\"text-align: right;\">\n",
       "      <th></th>\n",
       "      <th>count</th>\n",
       "      <th>mean</th>\n",
       "      <th>std</th>\n",
       "      <th>min</th>\n",
       "      <th>25%</th>\n",
       "      <th>50%</th>\n",
       "      <th>75%</th>\n",
       "      <th>max</th>\n",
       "    </tr>\n",
       "  </thead>\n",
       "  <tbody>\n",
       "    <tr>\n",
       "      <th>Age</th>\n",
       "      <td>10000.0</td>\n",
       "      <td>53.511700</td>\n",
       "      <td>20.638538</td>\n",
       "      <td>18.000000</td>\n",
       "      <td>36.000000</td>\n",
       "      <td>53.000000</td>\n",
       "      <td>71.000000</td>\n",
       "      <td>89.000000</td>\n",
       "    </tr>\n",
       "    <tr>\n",
       "      <th>VitD_levels</th>\n",
       "      <td>10000.0</td>\n",
       "      <td>17.964262</td>\n",
       "      <td>2.017231</td>\n",
       "      <td>9.806483</td>\n",
       "      <td>16.626439</td>\n",
       "      <td>17.951122</td>\n",
       "      <td>19.347963</td>\n",
       "      <td>26.394449</td>\n",
       "    </tr>\n",
       "    <tr>\n",
       "      <th>Doc_visits</th>\n",
       "      <td>10000.0</td>\n",
       "      <td>5.012200</td>\n",
       "      <td>1.045734</td>\n",
       "      <td>1.000000</td>\n",
       "      <td>4.000000</td>\n",
       "      <td>5.000000</td>\n",
       "      <td>6.000000</td>\n",
       "      <td>9.000000</td>\n",
       "    </tr>\n",
       "    <tr>\n",
       "      <th>Full_meals_eaten</th>\n",
       "      <td>10000.0</td>\n",
       "      <td>1.001400</td>\n",
       "      <td>1.008117</td>\n",
       "      <td>0.000000</td>\n",
       "      <td>0.000000</td>\n",
       "      <td>1.000000</td>\n",
       "      <td>2.000000</td>\n",
       "      <td>7.000000</td>\n",
       "    </tr>\n",
       "    <tr>\n",
       "      <th>vitD_supp</th>\n",
       "      <td>10000.0</td>\n",
       "      <td>0.398900</td>\n",
       "      <td>0.628505</td>\n",
       "      <td>0.000000</td>\n",
       "      <td>0.000000</td>\n",
       "      <td>0.000000</td>\n",
       "      <td>1.000000</td>\n",
       "      <td>5.000000</td>\n",
       "    </tr>\n",
       "    <tr>\n",
       "      <th>Initial_days</th>\n",
       "      <td>10000.0</td>\n",
       "      <td>34.455299</td>\n",
       "      <td>26.309341</td>\n",
       "      <td>1.001981</td>\n",
       "      <td>7.896215</td>\n",
       "      <td>35.836244</td>\n",
       "      <td>61.161020</td>\n",
       "      <td>71.981490</td>\n",
       "    </tr>\n",
       "    <tr>\n",
       "      <th>TotalCharge</th>\n",
       "      <td>10000.0</td>\n",
       "      <td>5312.172769</td>\n",
       "      <td>2180.393838</td>\n",
       "      <td>1938.312067</td>\n",
       "      <td>3179.374015</td>\n",
       "      <td>5213.952000</td>\n",
       "      <td>7459.699750</td>\n",
       "      <td>9180.728000</td>\n",
       "    </tr>\n",
       "    <tr>\n",
       "      <th>Additional_charges</th>\n",
       "      <td>10000.0</td>\n",
       "      <td>12934.528587</td>\n",
       "      <td>6542.601544</td>\n",
       "      <td>3125.703000</td>\n",
       "      <td>7986.487755</td>\n",
       "      <td>11573.977735</td>\n",
       "      <td>15626.490000</td>\n",
       "      <td>30566.070000</td>\n",
       "    </tr>\n",
       "  </tbody>\n",
       "</table>\n",
       "</div>"
      ],
      "text/plain": [
       "                      count          mean          std          min  \\\n",
       "Age                 10000.0     53.511700    20.638538    18.000000   \n",
       "VitD_levels         10000.0     17.964262     2.017231     9.806483   \n",
       "Doc_visits          10000.0      5.012200     1.045734     1.000000   \n",
       "Full_meals_eaten    10000.0      1.001400     1.008117     0.000000   \n",
       "vitD_supp           10000.0      0.398900     0.628505     0.000000   \n",
       "Initial_days        10000.0     34.455299    26.309341     1.001981   \n",
       "TotalCharge         10000.0   5312.172769  2180.393838  1938.312067   \n",
       "Additional_charges  10000.0  12934.528587  6542.601544  3125.703000   \n",
       "\n",
       "                            25%           50%           75%           max  \n",
       "Age                   36.000000     53.000000     71.000000     89.000000  \n",
       "VitD_levels           16.626439     17.951122     19.347963     26.394449  \n",
       "Doc_visits             4.000000      5.000000      6.000000      9.000000  \n",
       "Full_meals_eaten       0.000000      1.000000      2.000000      7.000000  \n",
       "vitD_supp              0.000000      0.000000      1.000000      5.000000  \n",
       "Initial_days           7.896215     35.836244     61.161020     71.981490  \n",
       "TotalCharge         3179.374015   5213.952000   7459.699750   9180.728000  \n",
       "Additional_charges  7986.487755  11573.977735  15626.490000  30566.070000  "
      ]
     },
     "execution_count": 4,
     "metadata": {},
     "output_type": "execute_result"
    }
   ],
   "source": [
    "# Display dataframe with continuous variables\n",
    "\n",
    "df.describe().transpose()"
   ]
  },
  {
   "cell_type": "markdown",
   "id": "1ac5df6b",
   "metadata": {},
   "source": [
    "<strong>Step Two</strong>\n",
    "<ul>\n",
    "    <li>Standardize the dataset.</li>\n",
    "</ul>\n",
    "\n",
    "<strong>Imports</strong>\n",
    "<ul>\n",
    "    <li>StandardScaler from SciKitLearn.preprocessing to standardize and scale the dataset.</li>\n",
    "</ul>"
   ]
  },
  {
   "cell_type": "code",
   "execution_count": 5,
   "id": "07e249ed",
   "metadata": {},
   "outputs": [],
   "source": [
    "# Import StandardScaler\n",
    "\n",
    "from sklearn.preprocessing import StandardScaler\n"
   ]
  },
  {
   "cell_type": "code",
   "execution_count": 6,
   "id": "260738c2",
   "metadata": {},
   "outputs": [],
   "source": [
    "# Standardize the dataset\n",
    "\n",
    "scaler = StandardScaler()\n",
    "scaled_df = scaler.fit_transform(df)\n"
   ]
  },
  {
   "cell_type": "markdown",
   "id": "dc8d7f87",
   "metadata": {},
   "source": [
    "<strong>Copy of the scaled dataset</strong>\n"
   ]
  },
  {
   "cell_type": "code",
   "execution_count": 7,
   "id": "25355869",
   "metadata": {},
   "outputs": [],
   "source": [
    "# Copy of the scaled dataset\n",
    "\n",
    "pd.DataFrame(scaled_df).to_csv(\"scaled_dataset.csv\")\n"
   ]
  },
  {
   "cell_type": "markdown",
   "id": "dfb334ec",
   "metadata": {},
   "source": [
    "## Analysis\n",
    "\n",
    "### Determine the Matrix of All Principal Components\n",
    "<strong>Imports</strong><br>\n",
    "PCA from SciKitLearn.decomposition for the Principal Component Analysis."
   ]
  },
  {
   "cell_type": "code",
   "execution_count": 8,
   "id": "7a6c9946",
   "metadata": {},
   "outputs": [],
   "source": [
    "# Import PCA\n",
    "\n",
    "from sklearn.decomposition import PCA\n"
   ]
  },
  {
   "cell_type": "code",
   "execution_count": 9,
   "id": "490e07a3",
   "metadata": {},
   "outputs": [],
   "source": [
    "# Transform the dataframe\n",
    "\n",
    "pca = PCA()\n",
    "transform_df = pca.fit_transform(scaled_df)\n"
   ]
  },
  {
   "cell_type": "code",
   "execution_count": 10,
   "id": "95248225",
   "metadata": {},
   "outputs": [],
   "source": [
    "# Create the matrix\n",
    "\n",
    "matrix_cols = []\n",
    "i = 1\n",
    "\n",
    "while i <= len(pca.components_):\n",
    "    matrix_cols.append('PC' + str(i))\n",
    "    i += 1"
   ]
  },
  {
   "cell_type": "code",
   "execution_count": 11,
   "id": "43475404",
   "metadata": {},
   "outputs": [
    {
     "data": {
      "text/html": [
       "<div>\n",
       "<style scoped>\n",
       "    .dataframe tbody tr th:only-of-type {\n",
       "        vertical-align: middle;\n",
       "    }\n",
       "\n",
       "    .dataframe tbody tr th {\n",
       "        vertical-align: top;\n",
       "    }\n",
       "\n",
       "    .dataframe thead th {\n",
       "        text-align: right;\n",
       "    }\n",
       "</style>\n",
       "<table border=\"1\" class=\"dataframe\">\n",
       "  <thead>\n",
       "    <tr style=\"text-align: right;\">\n",
       "      <th></th>\n",
       "      <th>PC1</th>\n",
       "      <th>PC2</th>\n",
       "      <th>PC3</th>\n",
       "      <th>PC4</th>\n",
       "      <th>PC5</th>\n",
       "      <th>PC6</th>\n",
       "      <th>PC7</th>\n",
       "      <th>PC8</th>\n",
       "    </tr>\n",
       "  </thead>\n",
       "  <tbody>\n",
       "    <tr>\n",
       "      <th>Age</th>\n",
       "      <td>0.084545</td>\n",
       "      <td>-0.002714</td>\n",
       "      <td>-0.006886</td>\n",
       "      <td>-0.020539</td>\n",
       "      <td>0.025377</td>\n",
       "      <td>0.701098</td>\n",
       "      <td>0.702159</td>\n",
       "      <td>0.084649</td>\n",
       "    </tr>\n",
       "    <tr>\n",
       "      <th>VitD_levels</th>\n",
       "      <td>0.701257</td>\n",
       "      <td>0.019964</td>\n",
       "      <td>0.016393</td>\n",
       "      <td>0.030740</td>\n",
       "      <td>0.015171</td>\n",
       "      <td>-0.089577</td>\n",
       "      <td>-0.078978</td>\n",
       "      <td>0.701523</td>\n",
       "    </tr>\n",
       "    <tr>\n",
       "      <th>Doc_visits</th>\n",
       "      <td>0.018273</td>\n",
       "      <td>-0.560857</td>\n",
       "      <td>-0.017846</td>\n",
       "      <td>-0.658255</td>\n",
       "      <td>0.500429</td>\n",
       "      <td>-0.020405</td>\n",
       "      <td>-0.022831</td>\n",
       "      <td>0.010957</td>\n",
       "    </tr>\n",
       "    <tr>\n",
       "      <th>Full_meals_eaten</th>\n",
       "      <td>-0.017452</td>\n",
       "      <td>0.416771</td>\n",
       "      <td>0.819605</td>\n",
       "      <td>-0.087265</td>\n",
       "      <td>0.382478</td>\n",
       "      <td>-0.002202</td>\n",
       "      <td>-0.000218</td>\n",
       "      <td>-0.018321</td>\n",
       "    </tr>\n",
       "    <tr>\n",
       "      <th>vitD_supp</th>\n",
       "      <td>-0.013412</td>\n",
       "      <td>0.427653</td>\n",
       "      <td>-0.528523</td>\n",
       "      <td>0.188520</td>\n",
       "      <td>0.708301</td>\n",
       "      <td>-0.010754</td>\n",
       "      <td>-0.009761</td>\n",
       "      <td>-0.012463</td>\n",
       "    </tr>\n",
       "    <tr>\n",
       "      <th>Initial_days</th>\n",
       "      <td>-0.019396</td>\n",
       "      <td>-0.573097</td>\n",
       "      <td>0.219713</td>\n",
       "      <td>0.722544</td>\n",
       "      <td>0.317359</td>\n",
       "      <td>0.005652</td>\n",
       "      <td>0.007073</td>\n",
       "      <td>-0.006442</td>\n",
       "    </tr>\n",
       "    <tr>\n",
       "      <th>TotalCharge</th>\n",
       "      <td>0.706546</td>\n",
       "      <td>-0.002248</td>\n",
       "      <td>0.001299</td>\n",
       "      <td>0.010291</td>\n",
       "      <td>0.000591</td>\n",
       "      <td>0.031692</td>\n",
       "      <td>-0.031300</td>\n",
       "      <td>-0.706184</td>\n",
       "    </tr>\n",
       "    <tr>\n",
       "      <th>Additional_charges</th>\n",
       "      <td>0.026263</td>\n",
       "      <td>-0.001520</td>\n",
       "      <td>-0.001091</td>\n",
       "      <td>-0.001623</td>\n",
       "      <td>-0.000601</td>\n",
       "      <td>-0.706303</td>\n",
       "      <td>0.706462</td>\n",
       "      <td>-0.036754</td>\n",
       "    </tr>\n",
       "  </tbody>\n",
       "</table>\n",
       "</div>"
      ],
      "text/plain": [
       "                         PC1       PC2       PC3       PC4       PC5  \\\n",
       "Age                 0.084545 -0.002714 -0.006886 -0.020539  0.025377   \n",
       "VitD_levels         0.701257  0.019964  0.016393  0.030740  0.015171   \n",
       "Doc_visits          0.018273 -0.560857 -0.017846 -0.658255  0.500429   \n",
       "Full_meals_eaten   -0.017452  0.416771  0.819605 -0.087265  0.382478   \n",
       "vitD_supp          -0.013412  0.427653 -0.528523  0.188520  0.708301   \n",
       "Initial_days       -0.019396 -0.573097  0.219713  0.722544  0.317359   \n",
       "TotalCharge         0.706546 -0.002248  0.001299  0.010291  0.000591   \n",
       "Additional_charges  0.026263 -0.001520 -0.001091 -0.001623 -0.000601   \n",
       "\n",
       "                         PC6       PC7       PC8  \n",
       "Age                 0.701098  0.702159  0.084649  \n",
       "VitD_levels        -0.089577 -0.078978  0.701523  \n",
       "Doc_visits         -0.020405 -0.022831  0.010957  \n",
       "Full_meals_eaten   -0.002202 -0.000218 -0.018321  \n",
       "vitD_supp          -0.010754 -0.009761 -0.012463  \n",
       "Initial_days        0.005652  0.007073 -0.006442  \n",
       "TotalCharge         0.031692 -0.031300 -0.706184  \n",
       "Additional_charges -0.706303  0.706462 -0.036754  "
      ]
     },
     "execution_count": 11,
     "metadata": {},
     "output_type": "execute_result"
    }
   ],
   "source": [
    "# Display the matrix\n",
    "\n",
    "loadings = pd.DataFrame(pca.components_, columns = matrix_cols, index = df.columns)\n",
    "loadings"
   ]
  },
  {
   "cell_type": "markdown",
   "id": "0ff61ccd",
   "metadata": {},
   "source": [
    "## Identify Total Number of Principal Components\n",
    "<strong>Imports</strong><br>\n",
    "pyplot from matplotlib and seaborn to create the plot."
   ]
  },
  {
   "cell_type": "code",
   "execution_count": 12,
   "id": "57d3cad6",
   "metadata": {},
   "outputs": [],
   "source": [
    "# Import plyplot and seaborn\n",
    "\n",
    "import seaborn as sns\n",
    "import matplotlib.pyplot as plt\n",
    "\n",
    "%matplotlib inline"
   ]
  },
  {
   "cell_type": "code",
   "execution_count": 13,
   "id": "6cb8c9f8",
   "metadata": {
    "scrolled": true
   },
   "outputs": [
    {
     "data": {
      "image/png": "[encoded data removed]",
      "text/plain": [
       "<Figure size 640x480 with 2 Axes>"
      ]
     },
     "metadata": {},
     "output_type": "display_data"
    }
   ],
   "source": [
    "# Heatmap of the matrix\n",
    "\n",
    "sns.heatmap(loadings, linewidths = .5, annot = True, fmt = '.2f')\n",
    "plt.show()"
   ]
  },
  {
   "cell_type": "code",
   "execution_count": 14,
   "id": "f6c08ede",
   "metadata": {},
   "outputs": [
    {
     "data": {
      "image/png": "[encoded data removed]",
      "text/plain": [
       "<Figure size 1000x800 with 1 Axes>"
      ]
     },
     "metadata": {},
     "output_type": "display_data"
    }
   ],
   "source": [
    "# Create and display the plot\n",
    "\n",
    "plt.figure(figsize = (10, 8))\n",
    "\n",
    "features = range(pca.n_components_)\n",
    "plt.plot(features, pca.explained_variance_)\n",
    "plt.axhline(y = 1, linestyle = '--', color = 'r')\n",
    "plt.grid(axis = 'x')\n",
    "plt.xlabel('Components')\n",
    "plt.ylabel('Variance')\n",
    "plt.show()"
   ]
  },
  {
   "cell_type": "markdown",
   "id": "809141c4",
   "metadata": {},
   "source": [
    "<strong>Number of Components Based on Kaiser Criterion</strong><br>\n",
    "The Kaiser Criterion selects principal components with a variance over 1.0 for PCA.<br>\n",
    "The chart above shows the first four components meet the criteria."
   ]
  },
  {
   "cell_type": "markdown",
   "id": "5144ab2e",
   "metadata": {},
   "source": [
    "## Identify Variance of the Principal Components"
   ]
  },
  {
   "cell_type": "code",
   "execution_count": 15,
   "id": "6e709d8a",
   "metadata": {},
   "outputs": [
    {
     "data": {
      "text/html": [
       "<div>\n",
       "<style scoped>\n",
       "    .dataframe tbody tr th:only-of-type {\n",
       "        vertical-align: middle;\n",
       "    }\n",
       "\n",
       "    .dataframe tbody tr th {\n",
       "        vertical-align: top;\n",
       "    }\n",
       "\n",
       "    .dataframe thead th {\n",
       "        text-align: right;\n",
       "    }\n",
       "</style>\n",
       "<table border=\"1\" class=\"dataframe\">\n",
       "  <thead>\n",
       "    <tr style=\"text-align: right;\">\n",
       "      <th></th>\n",
       "      <th>Explained Variance per PC</th>\n",
       "    </tr>\n",
       "  </thead>\n",
       "  <tbody>\n",
       "    <tr>\n",
       "      <th>PC1</th>\n",
       "      <td>1.992992</td>\n",
       "    </tr>\n",
       "    <tr>\n",
       "      <th>PC2</th>\n",
       "      <td>1.714366</td>\n",
       "    </tr>\n",
       "    <tr>\n",
       "      <th>PC3</th>\n",
       "      <td>1.033424</td>\n",
       "    </tr>\n",
       "    <tr>\n",
       "      <th>PC4</th>\n",
       "      <td>1.007931</td>\n",
       "    </tr>\n",
       "  </tbody>\n",
       "</table>\n",
       "</div>"
      ],
      "text/plain": [
       "     Explained Variance per PC\n",
       "PC1                   1.992992\n",
       "PC2                   1.714366\n",
       "PC3                   1.033424\n",
       "PC4                   1.007931"
      ]
     },
     "execution_count": 15,
     "metadata": {},
     "output_type": "execute_result"
    }
   ],
   "source": [
    "# Create dataframe to display explained variance per PC\n",
    "\n",
    "pca_pc4 = PCA(n_components = 4, random_state = 0)\n",
    "pca_pc4.fit_transform(transform_df)\n",
    "pc4 = pca_pc4.explained_variance_\n",
    "pc4_edf = pd.DataFrame(pc4, columns = ['Explained Variance per PC'], index = ['PC1', 'PC2', 'PC3', 'PC4'])\n",
    "pc4_edf"
   ]
  },
  {
   "cell_type": "code",
   "execution_count": 16,
   "id": "0d705ae5",
   "metadata": {},
   "outputs": [
    {
     "data": {
      "text/html": [
       "<div>\n",
       "<style scoped>\n",
       "    .dataframe tbody tr th:only-of-type {\n",
       "        vertical-align: middle;\n",
       "    }\n",
       "\n",
       "    .dataframe tbody tr th {\n",
       "        vertical-align: top;\n",
       "    }\n",
       "\n",
       "    .dataframe thead th {\n",
       "        text-align: right;\n",
       "    }\n",
       "</style>\n",
       "<table border=\"1\" class=\"dataframe\">\n",
       "  <thead>\n",
       "    <tr style=\"text-align: right;\">\n",
       "      <th></th>\n",
       "      <th>% Variance per PC</th>\n",
       "    </tr>\n",
       "  </thead>\n",
       "  <tbody>\n",
       "    <tr>\n",
       "      <th>PC1</th>\n",
       "      <td>24.91</td>\n",
       "    </tr>\n",
       "    <tr>\n",
       "      <th>PC2</th>\n",
       "      <td>21.43</td>\n",
       "    </tr>\n",
       "    <tr>\n",
       "      <th>PC3</th>\n",
       "      <td>12.92</td>\n",
       "    </tr>\n",
       "    <tr>\n",
       "      <th>PC4</th>\n",
       "      <td>12.60</td>\n",
       "    </tr>\n",
       "  </tbody>\n",
       "</table>\n",
       "</div>"
      ],
      "text/plain": [
       "     % Variance per PC\n",
       "PC1              24.91\n",
       "PC2              21.43\n",
       "PC3              12.92\n",
       "PC4              12.60"
      ]
     },
     "execution_count": 16,
     "metadata": {},
     "output_type": "execute_result"
    }
   ],
   "source": [
    "# Create dataframe to display % of variance per PC\n",
    "\n",
    "pc4_var = pca_pc4.explained_variance_ratio_*100\n",
    "pc4_df = pd.DataFrame(pc4_var.round(2), columns = ['% Variance per PC'], index = ['PC1', 'PC2', 'PC3', 'PC4'])\n",
    "pc4_df"
   ]
  },
  {
   "cell_type": "markdown",
   "id": "f5454147",
   "metadata": {},
   "source": [
    "##  Identify Total Variance Captured\n"
   ]
  },
  {
   "cell_type": "code",
   "execution_count": 17,
   "id": "a93438b0",
   "metadata": {},
   "outputs": [
    {
     "name": "stdout",
     "output_type": "stream",
     "text": [
      "Total % of variance captured by Principal Components:  71.86 %\n"
     ]
    }
   ],
   "source": [
    "# Display sum of variance in Principal Components\n",
    "\n",
    "total_var = pc4_df['% Variance per PC'].sum()\n",
    "print('Total % of variance captured by Principal Components: ', total_var, '%')"
   ]
  },
  {
   "cell_type": "markdown",
   "id": "a476a1c2",
   "metadata": {},
   "source": [
    "## Summary and Results\n"
   ]
  },
  {
   "cell_type": "markdown",
   "id": "0c6d4999",
   "metadata": {},
   "source": [
    "<p>The Principal Component Analysis reduced the number of variables by 50% per the Kaiser Criterion. The original number of variables was eight and the PCA reduced the number to four. The four principal components identified still account for 71.86% of variance in the data set. The analysis appears to be successful in reducing the number of variables while still capturing the most variance.</p>"
   ]
  },
  {
   "cell_type": "markdown",
   "id": "339528b1",
   "metadata": {},
   "source": [
    "#### References:\n",
    "<p>Biswal, Avijeet. (2023). <em>Principal Component Analysis in Machine Learning: Complete Guide.</em><br> www.simplilearn.com/tutorials/machine-learning-tutorial/principal-component-analysis.</p>"
   ]
  }
 ],
 "metadata": {
  "kernelspec": {
   "display_name": "Python 3 (ipykernel)",
   "language": "python",
   "name": "python3"
  },
  "language_info": {
   "codemirror_mode": {
    "name": "ipython",
    "version": 3
   },
   "file_extension": ".py",
   "mimetype": "text/x-python",
   "name": "python",
   "nbconvert_exporter": "python",
   "pygments_lexer": "ipython3",
   "version": "3.9.13"
  }
 },
 "nbformat": 4,
 "nbformat_minor": 5
}
